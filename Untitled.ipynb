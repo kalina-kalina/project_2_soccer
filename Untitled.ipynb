{
 "cells": [
  {
   "cell_type": "code",
   "execution_count": null,
   "metadata": {},
   "outputs": [],
   "source": [
    "# german teams\n",
    "\n",
    "teamsdiff = cur.execute('''SELECT * FROM Teams WHERE Season = \"2011\"''')\n",
    "dftd = pd.DataFrame(teamsdiff)\n",
    "dftd.columns = [x[0] for x in teamsdiff.description]\n",
    "dftd\n",
    "\n",
    "# -> 36"
   ]
  },
  {
   "cell_type": "code",
   "execution_count": null,
   "metadata": {},
   "outputs": [],
   "source": [
    "awayteam2011 = dfmach2011['AwayTeam'].unique()\n",
    "len(awayteam2011)\n",
    "awayteam2011.sort()\n",
    "awayteam2011\n",
    "# the same as hometeam"
   ]
  }
 ],
 "metadata": {
  "kernelspec": {
   "display_name": "Python 3",
   "language": "python",
   "name": "python3"
  },
  "language_info": {
   "codemirror_mode": {
    "name": "ipython",
    "version": 3
   },
   "file_extension": ".py",
   "mimetype": "text/x-python",
   "name": "python",
   "nbconvert_exporter": "python",
   "pygments_lexer": "ipython3",
   "version": "3.7.4"
  }
 },
 "nbformat": 4,
 "nbformat_minor": 2
}
